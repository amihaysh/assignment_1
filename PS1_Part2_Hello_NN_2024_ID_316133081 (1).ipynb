{
  "cells": [
    {
      "cell_type": "markdown",
      "metadata": {
        "id": "LuoXusr9B3nd"
      },
      "source": [
        "# PS1: Your first library-free neural network!  \n",
        "\n",
        "Advanced Learning 2024\n"
      ]
    },
    {
      "cell_type": "markdown",
      "metadata": {
        "id": "fRYKvBtcZj44"
      },
      "source": [
        "For SUBMISSION:   \n",
        "\n",
        "Please upload the complete and executed `ipynb` to your git repository. Verify that all of your output can be viewed directly from github, and provide a link to that git file below.\n",
        "\n",
        "~~~\n",
        "STUDENT ID: 316133081\n",
        "~~~\n",
        "\n",
        "~~~\n",
        "STUDENT GIT LINK: MISSING\n",
        "~~~\n",
        "In Addition, don't forget to add your ID to the files:    \n",
        "  \n",
        "`PS1_Part2_HelloNN_2024_ID_[000000000].html`   \n"
      ]
    },
    {
      "cell_type": "code",
      "execution_count": 1,
      "metadata": {
        "id": "X2ZxCWBO_IIT"
      },
      "outputs": [],
      "source": [
        "import numpy as np # You are allowed to use  only numpy.\n",
        "import time"
      ]
    },
    {
      "cell_type": "markdown",
      "metadata": {
        "id": "CnAz84ZL_9XQ"
      },
      "source": [
        "\n",
        "**Welcome**.   \n",
        "\n",
        "In this part of the problem set you are set to build a complete and flexible neural network.  \n",
        "This neural network will be library free (in the sense that we won't use PyTorch/Tensorflow/etc.).   \n",
        "\n",
        "Let's do a quick review of the basic neural-network components:  \n",
        "\n",
        "\n",
        "*   *Layer* - can be fully connected (dense/hidden), convolution, etc.\n",
        "  * Forward propagation- the layer outputs the next layer's input\n",
        "  * Backward propagation- the layer also outputs the gradient descent update\n",
        "*   *Activation* Layer (e.g. ReLU) - there are no parameters, only gradients with respect to the input. We want to compute both the gradient w.r.t the parameters of the layer and to create the gradient with respect to the layer's inputs\n",
        "   * *Forward propagation*- the layer outputs the next layer's input\n",
        "   * *Backward propagation*- the layer also outputs the gradient descent update\n",
        "*   *Loss Function* : how our model  quantifies the difference between the predicted outputs the actual (target) values  \n",
        "*   *Network Wrapper*-  wraps our components together as a trainable model.\n",
        "\n",
        "\n",
        "\n",
        "\n"
      ]
    },
    {
      "cell_type": "markdown",
      "metadata": {
        "id": "ncQsamml85JG"
      },
      "source": [
        "Useful resource:  \n",
        "* Gradient descent for neural networks [cheat sheet](https://moodle4.cs.huji.ac.il/hu23/mod/resource/view.php?id=402297).\n",
        "* Neural network architecture [cheat sheet](https://moodle4.cs.huji.ac.il/hu23/mod/url/view.php?id=402298)."
      ]
    },
    {
      "cell_type": "markdown",
      "metadata": {
        "id": "P11k0GECXiR-"
      },
      "source": [
        "### 0. Loading data"
      ]
    },
    {
      "cell_type": "markdown",
      "metadata": {
        "id": "lwLDOo7IXfcI"
      },
      "source": [
        "You are going to test and evaluate your home-made network on the `mnist` dataset.   \n",
        "The MNIST dataset is a large dataset of handwritten digits that is commonly used for training various image and vision models."
      ]
    },
    {
      "cell_type": "code",
      "execution_count": 2,
      "metadata": {
        "id": "RIxpddzDXgBN",
        "colab": {
          "base_uri": "https://localhost:8080/"
        },
        "outputId": "9b74f408-9f7b-4065-816a-99e1a48113b6"
      },
      "outputs": [
        {
          "output_type": "stream",
          "name": "stdout",
          "text": [
            "Downloading data from https://storage.googleapis.com/tensorflow/tf-keras-datasets/mnist.npz\n",
            "\u001b[1m11490434/11490434\u001b[0m \u001b[32m━━━━━━━━━━━━━━━━━━━━\u001b[0m\u001b[37m\u001b[0m \u001b[1m0s\u001b[0m 0us/step\n"
          ]
        }
      ],
      "source": [
        "from keras.datasets import mnist\n",
        "from keras.utils import to_categorical\n",
        "# load MNIST from server\n",
        "# Using a standard library (keras.datasets) to load the mnist data\n",
        "(x_train, y_train), (x_test, y_test) = mnist.load_data()"
      ]
    },
    {
      "cell_type": "markdown",
      "metadata": {
        "id": "B_yaFDAtXj1h"
      },
      "source": [
        "#### Data transformations\n",
        "\n",
        "\n",
        "\n"
      ]
    },
    {
      "cell_type": "code",
      "execution_count": 3,
      "metadata": {
        "id": "3PooYSGAgY4v"
      },
      "outputs": [],
      "source": [
        "# training data : 60000 samples\n",
        "# reshape and normalize input data\n",
        "x_train = x_train.reshape(x_train.shape[0], 1, 28*28)\n",
        "x_train = x_train.astype('float32')\n",
        "x_train /= 255\n",
        "# One-hot encoding of the output.\n",
        "# Currently a number in range [0,9]; Change into a vector of size 10\n",
        "# e.g. number 3 will become [0, 0, 0, 1, 0, 0, 0, 0, 0, 0]\n",
        "y_train = to_categorical(y_train)\n",
        "# same for test data : 10000 samples\n",
        "x_test = x_test.reshape(x_test.shape[0], 1, 28*28)\n",
        "x_test = x_test.astype('float32')\n",
        "x_test /= 255\n",
        "y_test = to_categorical(y_test)"
      ]
    },
    {
      "cell_type": "markdown",
      "metadata": {
        "id": "q8HGS8h1uXAD"
      },
      "source": [
        "### 1. Network's Components"
      ]
    },
    {
      "cell_type": "markdown",
      "metadata": {
        "id": "Hda7HDt6NMg1"
      },
      "source": [
        "Please fill-in the missing code in the code boxes below (only where  `#### SOLUTION REQUIRED ####` is specified).   "
      ]
    },
    {
      "cell_type": "code",
      "execution_count": 4,
      "metadata": {
        "id": "zi3-57RaG-YW"
      },
      "outputs": [],
      "source": [
        "\n",
        "# This class is a general layer primitive, defining that each instance must\n",
        "# have an (input,output) parameters, and 2 functions: forward+backward propogation\n",
        "class Layer_Primitive:\n",
        "    def __init__(self):\n",
        "        self.input = None\n",
        "        self.output = None\n",
        "\n",
        "    # computes the output Y of a layer for a given input X\n",
        "    def forward_propagation(self, input):\n",
        "        raise NotImplementedError\n",
        "\n",
        "    # computes dE/dX for a given dE/dY (and update parameters if any)\n",
        "    def backward_propagation(self, output_error, learning_rate):\n",
        "        raise NotImplementedError"
      ]
    },
    {
      "cell_type": "markdown",
      "metadata": {
        "id": "kFrfWvZFoxGz"
      },
      "source": [
        "#### Fully Connected Layer"
      ]
    },
    {
      "cell_type": "markdown",
      "metadata": {
        "id": "fZnNmnfjDqBg"
      },
      "source": [
        "A fully-connected layer (a.k.a. affine, dense,linear layer) connects every input neuron to every output neuron.   \n",
        "It has 2 parameters: (input, output).   \n",
        "You need to define (code) the following:\n",
        "* its initialization weights with random weights.\n",
        "* the forward propogation calculation (as shown in class).\n",
        "* the backward propogation gradients calculation (given output, as shown in class).\n",
        "\n",
        "Parameters must be intitialized with some values. There are many ways to initialize the weights, and you are encouraged to do a quick research about the common methods. Any commonly used method will be accepted.  "
      ]
    },
    {
      "cell_type": "markdown",
      "metadata": {
        "id": "b2vegoAGNSdm"
      },
      "source": [
        "1.1 (20 pts)"
      ]
    },
    {
      "cell_type": "code",
      "execution_count": 24,
      "metadata": {
        "id": "1oPtObGHL0qA"
      },
      "outputs": [],
      "source": [
        "#### SOLUTION REQUIRED ####\n",
        "\n",
        "\n",
        "# inherit from base class Layer\n",
        "class Affine_Layer(Layer_Primitive):\n",
        "    # input_size = number of input neurons\n",
        "    # output_size = number of output neurons\n",
        "    def __init__(self, input_size, output_size):\n",
        "         self.weights = np.random.randn(input_size, output_size)*0.01 #'0.01 to to avoid exploding gradients'\n",
        "         self.bias = np.random.randn(1,output_size)*0.01\n",
        "\n",
        "\n",
        "    # returns output for a given input\n",
        "    def forward_propagation(self, input_data):\n",
        "        self.input = input_data\n",
        "        self.output = np.dot(self.input, self.weights) + self.bias #'output = wx+b'\n",
        "        return self.output\n",
        "\n",
        "\n",
        "\n",
        "    # computes dE/dW, dE/dB for a given output_error=dE/dY. Returns input_error=dE/dX.\n",
        "    def backward_propagation(self, output_grad, learning_rate):\n",
        "        input_error = np.dot(output_grad, self.weights.T)\n",
        "        weights_error = np.dot(self.input.T, output_grad)\n",
        "\n",
        "        # update parameters\n",
        "        self.weights -=  learning_rate * weights_error\n",
        "        self.bias -= learning_rate * np.sum(output_grad, axis=0, keepdims=True)\n",
        "\n",
        "        return input_error"
      ]
    },
    {
      "cell_type": "markdown",
      "metadata": {
        "id": "Uktf9H2UuhYR"
      },
      "source": [
        "#### Activation layers"
      ]
    },
    {
      "cell_type": "markdown",
      "metadata": {
        "id": "nbjwalPGEgLy"
      },
      "source": [
        "Activation functions are often a non-linear functions that aid in how well the network model adapts to and learns  the training dataset. The choice of activation function in the output layer will define the type of predictions the model can make.  \n",
        "\n"
      ]
    },
    {
      "cell_type": "code",
      "execution_count": 25,
      "metadata": {
        "id": "Mg5f_-ikVMzi"
      },
      "outputs": [],
      "source": [
        "# inherit from base class Layer\n",
        "class ActivationLayer(Layer_Primitive):\n",
        "    def __init__(self, activation, activation_grad):\n",
        "        self.activation = activation\n",
        "        self.activation_grad = activation_grad\n",
        "\n",
        "    # returns the activated input\n",
        "    def forward_propagation(self, input_data):\n",
        "        self.input = input_data\n",
        "        self.output = self.activation(self.input)\n",
        "        return self.output\n",
        "\n",
        "    # Returns input_error=dE/dX for a given output_grad=dE/dY.\n",
        "    # learning_rate is not used because there is no \"learnable\" parameters.\n",
        "    def backward_propagation(self, output_grad, learning_rate):\n",
        "        return self.activation_grad(self.input) * output_grad\n"
      ]
    },
    {
      "cell_type": "markdown",
      "metadata": {
        "id": "FaB7AX-aFP1j"
      },
      "source": [
        "\n",
        "You need to define (code) the following via different functions:\n",
        "* the forward propogation calculation (as shown in class).\n",
        "* the backward propogation gradients calculation (given output, as shown in class)."
      ]
    },
    {
      "cell_type": "markdown",
      "metadata": {
        "id": "fbvilWixNaro"
      },
      "source": [
        "1.2 (20 pts)"
      ]
    },
    {
      "cell_type": "code",
      "execution_count": 26,
      "metadata": {
        "id": "4-M9-LPBgBTB"
      },
      "outputs": [],
      "source": [
        "#### SOLUTION REQUIRED ####\n",
        "\n",
        "# activation functions and their derivatives:\n",
        "\n",
        "def tanh(x):\n",
        "    return np.tanh(x)\n",
        "\n",
        "def tanh_grad(x):\n",
        "    return 1 - np.tanh(x)**2\n",
        "\n",
        "def relu(x):\n",
        "    return np.maximum(0,x)\n",
        "\n",
        "def relu_grad(x):\n",
        "    return (x > 0).astype(float)\n",
        "\n",
        "def sigmoid(x):\n",
        "    return 1 / (1 + np.exp(-x))\n",
        "\n",
        "def sigmoid_grad(x):\n",
        "    s = sigmoid(x)\n",
        "    return s*(1-s)"
      ]
    },
    {
      "cell_type": "markdown",
      "metadata": {
        "id": "s3RBktf7uowi"
      },
      "source": [
        "#### Loss function"
      ]
    },
    {
      "cell_type": "markdown",
      "metadata": {
        "id": "RgZ4SRFkG_Sj"
      },
      "source": [
        "1.3 (10 pts)"
      ]
    },
    {
      "cell_type": "code",
      "execution_count": 27,
      "metadata": {
        "id": "uo_FcJrYgQaB"
      },
      "outputs": [],
      "source": [
        "#### SOLUTION REQUIRED ####\n",
        "\n",
        "# loss function and its derivative\n",
        "\n",
        "def mse(y_true, y_pred):\n",
        "    return np.mean((y_true - y_pred) ** 2)\n",
        "\n",
        "def mse_grad(y_true, y_pred):\n",
        "    return -2 * (y_true - y_pred) / y_true.size\n",
        "\n"
      ]
    },
    {
      "cell_type": "markdown",
      "metadata": {
        "id": "V4jPsOT9uy-_"
      },
      "source": [
        "#### Putting everything together"
      ]
    },
    {
      "cell_type": "markdown",
      "metadata": {
        "id": "fEK-tOfrNhO_"
      },
      "source": [
        "1.4 (10 pts)"
      ]
    },
    {
      "cell_type": "code",
      "execution_count": 28,
      "metadata": {
        "id": "fMwSnK5pgV9Y"
      },
      "outputs": [],
      "source": [
        "#### SOLUTION REQUIRED (in `predict`) ####\n",
        "\n",
        "class MyNetwork:\n",
        "    def __init__(self):\n",
        "        self.layers = []\n",
        "        self.loss = None\n",
        "        self.loss_grad = None\n",
        "\n",
        "    # add layer to network\n",
        "    def add(self, layer):\n",
        "        self.layers.append(layer)\n",
        "\n",
        "    # set loss to use\n",
        "    def use_loss(self, loss, loss_grad):\n",
        "        self.loss = loss\n",
        "        self.loss_grad = loss_grad\n",
        "\n",
        "\n",
        "    # train the network\n",
        "    def fit(self, x_train, y_train, epochs, learning_rate):\n",
        "        # sample dimension first\n",
        "        samples = len(x_train)\n",
        "\n",
        "        # training loop\n",
        "        for i in range(epochs):\n",
        "            err = 0\n",
        "            for j in range(samples):\n",
        "                # forward propagation\n",
        "                output = x_train[j]\n",
        "                for layer in self.layers:\n",
        "                    output = layer.forward_propagation(output)\n",
        "\n",
        "                # compute loss (for display purpose only)\n",
        "                err += self.loss(y_train[j], output)\n",
        "\n",
        "                # backward propagation\n",
        "                grad = self.loss_grad(y_train[j], output)\n",
        "                for layer in reversed(self.layers):\n",
        "                    grad = layer.backward_propagation(grad, learning_rate)\n",
        "\n",
        "            # calculate average error on all samples\n",
        "            err /= samples\n",
        "            print('Training epoch %d/%d   error=%f' % (i+1, epochs, err))\n",
        "\n",
        "\n",
        "    # predict output for given input\n",
        "    def predict(self, x_test,y_test=np.array([])):\n",
        "        if y_test.size:\n",
        "           assert len(x_test)==len(y_test) # if Y is given\n",
        "        # sample dimension first\n",
        "        samples = len(x_test)\n",
        "        result = []\n",
        "        loss = 0\n",
        "        correct = 0\n",
        "        # run network over all samples\n",
        "        for i in range(samples):\n",
        "            # forward propagation\n",
        "            output = x_test[i]\n",
        "            for layer in self.layers:\n",
        "                output = layer.forward_propagation(output)\n",
        "            result.append(output)\n",
        "            # ONLY IF LABELS ARE GIVEN (Y):\n",
        "            if y_test.size:\n",
        "                # Evaluate the output against Y,\n",
        "                # calculate loss against Y, add to `loss`:\n",
        "                loss += self.loss(y_test[i], output)\n",
        "                target = y_test[i]\n",
        "                # Evaluate the label of the output against real, and if identical,\n",
        "                # add +1 to `correct`:\n",
        "                if np.argmax(output) == np.argmax(target):\n",
        "                  correct += 1       #'It takes the index of the highest probability in the vector and checks if it matches the index of the true label.'\n",
        "        if y_test.size:\n",
        "            mean_loss = loss/samples\n",
        "\n",
        "            print('\\nTest set: Avg. loss: {:.4f}, Accuracy: {}/{} ({:.0f}%)\\n'.\n",
        "                  format(mean_loss, correct, samples,100. * correct / samples))\n",
        "\n",
        "        return result\n"
      ]
    },
    {
      "cell_type": "markdown",
      "metadata": {
        "id": "dCXXcALGXSRb"
      },
      "source": [
        "## 2. Testing Your Neural Network"
      ]
    },
    {
      "cell_type": "markdown",
      "metadata": {
        "id": "KotuuqWKXt2r"
      },
      "source": [
        "### Defining our main neural network architecture"
      ]
    },
    {
      "cell_type": "markdown",
      "metadata": {
        "id": "wzatylPzQIdR"
      },
      "source": [
        "Define your network's architecture:  \n",
        "(Please rationalize your choice of activation funciton.)\n",
        "* first affine layer that takes your input and outputs 128 nodes\n",
        "* `tanh/relu/sigmoid` activation layer following the first affine layer\n",
        "* second affine layer that takes the first layer's input and outputs 64 nodes\n",
        "* `tanh/relu/sigmoid` activation layer following the second affine layer\n",
        "* third affine layer that takes your second layer's input and outputs nodes in the size of the Y labels.\n",
        "* `tanh/relu/sigmoid` activation layer following the last affine layer\n"
      ]
    },
    {
      "cell_type": "markdown",
      "metadata": {
        "id": "kSwlLJXWNqii"
      },
      "source": [
        "2.1 (5 pts)"
      ]
    },
    {
      "cell_type": "code",
      "execution_count": 29,
      "metadata": {
        "id": "_O9Mi5Qmuvlp"
      },
      "outputs": [],
      "source": [
        "#### SOLUTION REQUIRED (in `predict`) ####\n",
        "\n",
        "# Network Architecture\n",
        "net = MyNetwork()\n",
        "net.add(Affine_Layer(input_size=x_train.shape[2], output_size=128))\n",
        "net.add(ActivationLayer(relu, relu_grad))\n",
        "net.add(Affine_Layer(input_size=128, output_size=64))\n",
        "net.add(ActivationLayer(relu, relu_grad))\n",
        "net.add(Affine_Layer(input_size=64, output_size=y_train.shape[1]))\n",
        "net.add(ActivationLayer(sigmoid, sigmoid_grad))\n"
      ]
    },
    {
      "cell_type": "markdown",
      "metadata": {
        "id": "o8_5gnOuuxWC"
      },
      "source": [
        "### Training!"
      ]
    },
    {
      "cell_type": "code",
      "execution_count": 30,
      "metadata": {
        "colab": {
          "base_uri": "https://localhost:8080/"
        },
        "id": "QhWuBFBfg3SB",
        "outputId": "0d5db1ef-5e5f-4a4e-98f1-1aaf75ac0b3a"
      },
      "outputs": [
        {
          "output_type": "stream",
          "name": "stdout",
          "text": [
            "Training epoch 1/20   error=0.097670\n",
            "Training epoch 2/20   error=0.089837\n",
            "Training epoch 3/20   error=0.072205\n",
            "Training epoch 4/20   error=0.039418\n",
            "Training epoch 5/20   error=0.023385\n",
            "Training epoch 6/20   error=0.017775\n",
            "Training epoch 7/20   error=0.014836\n",
            "Training epoch 8/20   error=0.012800\n",
            "Training epoch 9/20   error=0.011273\n",
            "Training epoch 10/20   error=0.010098\n",
            "Training epoch 11/20   error=0.009169\n",
            "Training epoch 12/20   error=0.008399\n",
            "Training epoch 13/20   error=0.007745\n",
            "Training epoch 14/20   error=0.007182\n",
            "Training epoch 15/20   error=0.006689\n",
            "Training epoch 16/20   error=0.006257\n",
            "Training epoch 17/20   error=0.005875\n",
            "Training epoch 18/20   error=0.005538\n",
            "Training epoch 19/20   error=0.005233\n",
            "Training epoch 20/20   error=0.004952\n",
            "Total process time: 908.422\n"
          ]
        }
      ],
      "source": [
        "\n",
        "# While developing, it is recommended to train your model on a subset of the data... / or low epochs.\n",
        "# as we didn't implemented mini-batch GD, training will be pretty slow if we update at each iteration on 60000 samples...\n",
        "net.use_loss(mse, mse_grad)\n",
        "epoch_num = 20\n",
        "lr = 0.01\n",
        "t1 = time.time()\n",
        "net.fit(x_train, y_train, epochs=epoch_num, learning_rate=lr)\n",
        "print(f\"Total process time: {round(time.time() - t1,3)}\")\n"
      ]
    },
    {
      "cell_type": "markdown",
      "metadata": {
        "id": "kXwnmpjlu5sa"
      },
      "source": [
        "### Evaluation"
      ]
    },
    {
      "cell_type": "markdown",
      "metadata": {
        "id": "Hhz13JznTujh"
      },
      "source": [
        "Exciting! Now is the time to test your model.   \n",
        "\n",
        "    May the gradients be always in your favor."
      ]
    },
    {
      "cell_type": "code",
      "execution_count": 32,
      "metadata": {
        "colab": {
          "base_uri": "https://localhost:8080/"
        },
        "id": "BHDYRUoq54Fk",
        "outputId": "f7e2fdd5-8065-4400-ebfd-9a62f800a75d"
      },
      "outputs": [
        {
          "output_type": "stream",
          "name": "stdout",
          "text": [
            "\n",
            "Test set: Avg. loss: 0.0056, Accuracy: 9673/10000 (97%)\n",
            "\n"
          ]
        }
      ],
      "source": [
        "output = net.predict(x_test ,y_test )"
      ]
    },
    {
      "cell_type": "markdown",
      "metadata": {
        "id": "S9HEZ6ElvVVj"
      },
      "source": [
        "## 3. Benchmarking against PyTorch"
      ]
    },
    {
      "cell_type": "markdown",
      "metadata": {
        "id": "Z-0UWnaYUNz7"
      },
      "source": [
        "How well your model performs against a similar-architecture PyTorch model?   \n",
        "It is time to find out:"
      ]
    },
    {
      "cell_type": "code",
      "execution_count": 31,
      "metadata": {
        "id": "R2TeiObsnBr1"
      },
      "outputs": [],
      "source": [
        "import torch\n",
        "import torch.nn as nn\n",
        "import torch.nn.functional as F\n",
        "from torch.utils.data import TensorDataset"
      ]
    },
    {
      "cell_type": "markdown",
      "metadata": {
        "id": "-h8cCoV3ZSkt"
      },
      "source": [
        "#### Prepare the data as tensors using PyTorch DataLoader:"
      ]
    },
    {
      "cell_type": "code",
      "execution_count": 33,
      "metadata": {
        "id": "1rqwlzUIvFCZ"
      },
      "outputs": [],
      "source": [
        "t_train =  TensorDataset(torch.Tensor(x_train),torch.Tensor(y_train))\n",
        "t_test =  TensorDataset(torch.Tensor(x_test),torch.Tensor(y_test))\n",
        "train_loader = torch.utils.data.DataLoader(dataset=t_train, batch_size=64, shuffle=True)\n",
        "test_loader = torch.utils.data.DataLoader(dataset=t_test, batch_size=64, shuffle=False)"
      ]
    },
    {
      "cell_type": "markdown",
      "metadata": {
        "id": "0Ngm-Gv_UsCV"
      },
      "source": [
        "Define a `PyTorchNet` class with an identical architecture you used in your home-made network."
      ]
    },
    {
      "cell_type": "markdown",
      "metadata": {
        "id": "mJBs2JsyNxid"
      },
      "source": [
        "3.1 (10 pts)"
      ]
    },
    {
      "cell_type": "code",
      "execution_count": 34,
      "metadata": {
        "id": "4Ed2P1LmUpgS"
      },
      "outputs": [],
      "source": [
        "#### SOLUTION REQUIRED  ####\n",
        "\n",
        "class PyTorchNet(nn.Module):\n",
        "    def __init__(self):\n",
        "        super(PyTorchNet, self).__init__()\n",
        "        input_size = x_train.shape[2]\n",
        "        num_classes = y_train.shape[1]\n",
        "\n",
        "\n",
        "\n",
        "        self.fc1 = nn.Linear(input_size, 128)\n",
        "        self.activ1 = nn.ReLU()\n",
        "        self.fc2 = nn.Linear(128, 64) # i think you mean here fc2 beacuse fc1 was allready\n",
        "        self.activ2 = nn.ReLU()\n",
        "        self.fc3 = nn.Linear(64, num_classes)\n",
        "        self.activ3 = nn.Sigmoid() #i think you mean here activ3 beacuse activ2 was allready\n",
        "\n",
        "\n",
        "    def forward(self, x):\n",
        "        x = x.view(-1, 28 * 28)\n",
        "        x = self.x = self.activ1(self.fc1(x))\n",
        "        x = self.x = self.activ2(self.fc2(x))\n",
        "        x = self.fc3(x)\n",
        "\n",
        "        return x"
      ]
    },
    {
      "cell_type": "code",
      "execution_count": 35,
      "metadata": {
        "colab": {
          "base_uri": "https://localhost:8080/"
        },
        "id": "fG-8BEdDlL4L",
        "outputId": "13f30c00-bd29-49aa-c812-936b7a3cb4fc"
      },
      "outputs": [
        {
          "output_type": "stream",
          "name": "stdout",
          "text": [
            "Epoch [1/20], Step [500/938], Loss: 0.0157\n",
            "Epoch [2/20], Step [500/938], Loss: 0.0112\n",
            "Epoch [3/20], Step [500/938], Loss: 0.0111\n",
            "Epoch [4/20], Step [500/938], Loss: 0.0073\n",
            "Epoch [5/20], Step [500/938], Loss: 0.0075\n",
            "Epoch [6/20], Step [500/938], Loss: 0.0128\n",
            "Epoch [7/20], Step [500/938], Loss: 0.0069\n",
            "Epoch [8/20], Step [500/938], Loss: 0.0042\n",
            "Epoch [9/20], Step [500/938], Loss: 0.0041\n",
            "Epoch [10/20], Step [500/938], Loss: 0.0100\n",
            "Epoch [11/20], Step [500/938], Loss: 0.0062\n",
            "Epoch [12/20], Step [500/938], Loss: 0.0079\n",
            "Epoch [13/20], Step [500/938], Loss: 0.0017\n",
            "Epoch [14/20], Step [500/938], Loss: 0.0095\n",
            "Epoch [15/20], Step [500/938], Loss: 0.0046\n",
            "Epoch [16/20], Step [500/938], Loss: 0.0033\n",
            "Epoch [17/20], Step [500/938], Loss: 0.0017\n",
            "Epoch [18/20], Step [500/938], Loss: 0.0033\n",
            "Epoch [19/20], Step [500/938], Loss: 0.0032\n",
            "Epoch [20/20], Step [500/938], Loss: 0.0127\n"
          ]
        }
      ],
      "source": [
        "\n",
        "# Train the model\n",
        "num_epochs = 20\n",
        "pt_learning_rate = 0.01\n",
        "pt_network = PyTorchNet()\n",
        "optimizer = torch.optim.Adam(pt_network.parameters(), lr=pt_learning_rate)\n",
        "criterion = nn.MSELoss()\n",
        "\n",
        "for epoch in range(num_epochs):\n",
        "    for i, (images, labels) in enumerate(train_loader):\n",
        "        # Forward pass\n",
        "        outputs = pt_network(images)\n",
        "        loss = criterion(outputs, labels)\n",
        "        # Backward pass and optimize\n",
        "        optimizer.zero_grad()\n",
        "        loss.backward()\n",
        "        optimizer.step()\n",
        "        # A handy printout:\n",
        "        if (i + 1) % 500 == 0:\n",
        "            print(f'Epoch [{epoch+1}/{num_epochs}], Step [{i+1}/{len(train_loader)}], Loss: {loss.item():.4f}')\n"
      ]
    },
    {
      "cell_type": "markdown",
      "metadata": {
        "id": "L3rFfBfaV3Gt"
      },
      "source": [
        "Evaluation:"
      ]
    },
    {
      "cell_type": "code",
      "execution_count": 36,
      "metadata": {
        "colab": {
          "base_uri": "https://localhost:8080/"
        },
        "id": "RsfDSk2IrXst",
        "outputId": "3c3af864-7903-4bf4-e7ef-e0658bf6524d"
      },
      "outputs": [
        {
          "output_type": "stream",
          "name": "stdout",
          "text": [
            "\n",
            "Test set: Avg. loss: 0.0001, Accuracy: 9492/10000 (95%)\n",
            "\n"
          ]
        }
      ],
      "source": [
        "pt_network.eval()\n",
        "test_losses = []\n",
        "test_loss = 0\n",
        "correct = 0\n",
        "with torch.no_grad():\n",
        "    for data, target in test_loader:\n",
        "        output = pt_network(data)\n",
        "        test_loss += criterion(output, target,)\n",
        "        pred = output.data.max(1, keepdim=True)[1]\n",
        "        correct += pred.eq(target.data.max(1,keepdim=True)[1]).sum()\n",
        "\n",
        "test_loss /= len(test_loader.dataset)\n",
        "test_losses.append(test_loss)\n",
        "print('\\nTest set: Avg. loss: {:.4f}, Accuracy: {}/{} ({:.0f}%)\\n'.format(\n",
        "  test_loss, correct, len(test_loader.dataset),\n",
        "  100. * correct / len(test_loader.dataset)))"
      ]
    },
    {
      "cell_type": "markdown",
      "metadata": {
        "id": "EyKXHGW3XsAN"
      },
      "source": [
        "3.2 (10 pts)"
      ]
    },
    {
      "cell_type": "markdown",
      "metadata": {
        "id": "dI13KBVgrBkc"
      },
      "source": [
        "Time for some questions:\n",
        "1. Which one of the models performed better? Why?\n",
        "2. Which one of the models performed faster? Why?  \n",
        "3. What would you change in your network's architecture?   \n",
        "4. What would you change in your model's solution algorithm?"
      ]
    },
    {
      "cell_type": "markdown",
      "metadata": {
        "id": "cb6AMtbuXvSR"
      },
      "source": [
        "Write your solutions here:"
      ]
    },
    {
      "cell_type": "markdown",
      "source": [
        "1.\n",
        "The accuracy of my model was slightly better than the PyTorch model in this particular run. However, I believe this result is not consistent and, if I were to run my model again, it would likely produce the same or even worse accuracy compared to the PyTorch model. This is because PyTorch is already highly optimized and designed for stability and consistent performance.\n",
        "\n",
        "2.\n",
        "the pytorch model because it used an efficient backend libraries.\n",
        "\n",
        "3.\n",
        "I will add dropout and consider increasing depth or width.\n",
        "\n",
        "4.\n",
        "Use advanced optimizers (Adam, RMSProp)"
      ],
      "metadata": {
        "id": "Quou-F4kZ9no"
      }
    },
    {
      "cell_type": "markdown",
      "metadata": {
        "id": "mmJYjygWrCAg"
      },
      "source": [
        "## 4. The Network Wars!"
      ]
    },
    {
      "cell_type": "markdown",
      "metadata": {
        "id": "y_bdbde5Wj-y"
      },
      "source": [
        "Here is your chance to play with your model's architecture in order to break your own benchmark set eariler.  \n",
        "You can add/remove layers, play with their sizes, types, etc.   \n",
        "You can add a new loss if you wish, or anything else that will fairly give your model an advantage over base.  "
      ]
    },
    {
      "cell_type": "markdown",
      "metadata": {
        "id": "oG2hhaeyN59O"
      },
      "source": [
        "4.1 (15 pts)"
      ]
    },
    {
      "cell_type": "markdown",
      "source": [
        "its hard to improve from 97% accuracy (its allready suspicious to be over-fitted) so if it was less then 97% i will do that"
      ],
      "metadata": {
        "id": "bOpj_4cWoSjH"
      }
    },
    {
      "cell_type": "code",
      "execution_count": null,
      "metadata": {
        "id": "1EsyNK77rGcG"
      },
      "outputs": [],
      "source": [
        "#### SOLUTION REQUIRED  ####\n",
        "\n",
        "def cross_entropy_loss(y_true, y_pred):\n",
        "    return -np.sum(y_true * np.log(y_pred + 1e-9)) / y_true.shape[0]\n",
        "\n",
        "def cross_entropy_grad(y_true, y_pred):\n",
        "    return -y_true / (y_pred + 1e-9)\n",
        "\n",
        "\n",
        "\n",
        "net = MyNetwork()\n",
        "\n",
        "\n",
        "net.add(Affine_Layer(input_size=x_train.shape[2], output_size=256))\n",
        "net.add(ActivationLayer(relu, relu_grad))\n",
        "\n",
        "\n",
        "net.add(Affine_Layer(input_size=256, output_size=128))\n",
        "net.add(ActivationLayer(relu, relu_grad))\n",
        "\n",
        "\n",
        "net.add(Affine_Layer(input_size=128, output_size=64))\n",
        "net.add(ActivationLayer(relu, relu_grad))\n",
        "\n",
        "\n",
        "net.add(Affine_Layer(input_size=64, output_size=32))\n",
        "net.add(ActivationLayer(relu, relu_grad))\n",
        "\n",
        "\n",
        "net.add(Affine_Layer(input_size=32, output_size=y_train.shape[1]))\n",
        "net.add(ActivationLayer(sigmoid, sigmoid_grad))\n",
        "\n",
        "net.use_loss(cross_entropy_loss, cross_entropy_grad)\n",
        "net.fit(x_train, y_train, epochs=20, learning_rate=0.01)\n",
        "predictions = net.predict(x_test, y_test)"
      ]
    },
    {
      "cell_type": "code",
      "source": [],
      "metadata": {
        "id": "jF0NizaaczPJ"
      },
      "execution_count": null,
      "outputs": []
    }
  ],
  "metadata": {
    "colab": {
      "toc_visible": true,
      "provenance": []
    },
    "kernelspec": {
      "display_name": "Python 3",
      "name": "python3"
    },
    "language_info": {
      "name": "python"
    }
  },
  "nbformat": 4,
  "nbformat_minor": 0
}